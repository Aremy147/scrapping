{
 "cells": [
  {
   "attachments": {},
   "cell_type": "markdown",
   "metadata": {},
   "source": [
    "# Operadores moviles"
   ]
  },
  {
   "attachments": {},
   "cell_type": "markdown",
   "metadata": {},
   "source": [
    "## -Movistar"
   ]
  },
  {
   "attachments": {},
   "cell_type": "markdown",
   "metadata": {},
   "source": [
    "### Listar los equipos moviles del catalago "
   ]
  },
  {
   "cell_type": "code",
   "execution_count": null,
   "metadata": {},
   "outputs": [],
   "source": [
    "#Librerias usadas\n",
    "#Selenium y time\n",
    "from selenium import webdriver\n",
    "from selenium.webdriver.common.by import By\n",
    "from selenium.webdriver.support.select import Select\n",
    "import time\n",
    "driver = webdriver.Chrome()\n",
    "#URL \n",
    "driver.get('https://catalogo.movistar.com.pe/') \n",
    "mov={}\n",
    "#lista de productos\n",
    "l_pr=driver.find_elements(By.CLASS_NAME,'product-item')\n",
    "for i in l_pr:\n",
    "    #Guardamos el modelo y su link\n",
    "    mov[i.get_attribute('data-modelo')]={'link':(i.find_element(By.TAG_NAME,'a')).get_attribute('href')}\n",
    "    #\n",
    "    mov[i.get_attribute('data-modelo')].update({\"Memoria\": {}})\n",
    "driver.quit()"
   ]
  },
  {
   "attachments": {},
   "cell_type": "markdown",
   "metadata": {},
   "source": [
    "### Recorrer cada link equipo movil"
   ]
  },
  {
   "cell_type": "code",
   "execution_count": null,
   "metadata": {},
   "outputs": [],
   "source": [
    "for j,i in mov.items():      \n",
    "        print(j)\n",
    "        link=i['link']\n",
    "        d = webdriver.Chrome()\n",
    "        d.get(link)\n",
    "        l_memories=d.find_elements(By.CLASS_NAME,'js_memory')\n",
    "        mem={}\n",
    "        for x in l_memories:\n",
    "            mem.update({x.text:{}})\n",
    "            print(x.text)\n",
    "            d.execute_script(\"arguments[0].click();\", x)\n",
    "            time.sleep(1)\n",
    "            planes=d.find_element(By.ID,'planes')\n",
    "            pl={}\n",
    "            if planes.is_displayed():\n",
    "                sl_pl=Select(planes)\n",
    "                precio=d.find_element(By.CLASS_NAME,'js_price_cash')\n",
    "                for l in sl_pl.options:\n",
    "                    #print(l.text) #nombre planes\n",
    "                    sl_pl.select_by_visible_text(l.text)\n",
    "                    time.sleep(1)\n",
    "                    pl.update({l.text:precio.text})\n",
    "                    print (precio.text)\n",
    "            else:\n",
    "                print(j,x,'No tiene pipipi')\n",
    "            mem[x.text]=pl\n",
    "        i['Memoria'].update(mem)\n",
    "        time.sleep(1)\n",
    "        print(i)\n",
    "        d.quit()"
   ]
  },
  {
   "attachments": {},
   "cell_type": "markdown",
   "metadata": {},
   "source": [
    "### Guardar en JSON"
   ]
  },
  {
   "cell_type": "code",
   "execution_count": null,
   "metadata": {},
   "outputs": [],
   "source": [
    "import json\n",
    "with open(\"datos.json\", \"w\") as archivo:\n",
    "    json.dump(mov, archivo)"
   ]
  }
 ],
 "metadata": {
  "language_info": {
   "name": "python"
  },
  "orig_nbformat": 4
 },
 "nbformat": 4,
 "nbformat_minor": 2
}
